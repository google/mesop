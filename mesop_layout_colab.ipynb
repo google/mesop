{
  "cells": [
    {
      "cell_type": "markdown",
      "metadata": {
        "colab_type": "text",
        "id": "view-in-github"
      },
      "source": [
        "<a href=\"https://colab.research.google.com/github/wwwillchen/mesop/blob/more_docs/mesop_layout_colab.ipynb\" target=\"_parent\"><img src=\"https://colab.research.google.com/assets/colab-badge.svg\" alt=\"Open In Colab\"/></a>"
      ]
    },
    {
      "cell_type": "markdown",
      "metadata": {
        "id": "8r6nOL0xPfyU"
      },
      "source": [
        "# Mesop Layout\n",
        "\n",
        "- https://github.com/google/mesop\n",
        "- https://google.github.io/mesop/guides/layout\n",
        "\n",
        "Mesop is a Python-based UI framework that allows you to rapidly build web apps like demos and internal apps. This Colab walks you through common layout patterns."
      ]
    },
    {
      "cell_type": "markdown",
      "metadata": {
        "id": "ZCtrRuMdPpJG"
      },
      "source": [
        "# Getting Started"
      ]
    },
    {
      "cell_type": "code",
      "execution_count": null,
      "metadata": {
        "id": "buRfwUlqPons"
      },
      "outputs": [],
      "source": [
        "!pip install mesop"
      ]
    },
    {
      "cell_type": "code",
      "execution_count": null,
      "metadata": {
        "id": "hnyh1SX_P1XV"
      },
      "outputs": [],
      "source": [
        "import mesop as me\n",
        "import mesop.labs as mel\n",
        "\n",
        "me.colab_run()"
      ]
    },
    {
      "cell_type": "markdown",
      "metadata": {
        "id": "jNb8UJbpPwNj"
      },
      "source": [
        "# Rows & Columns\n"
      ]
    },
    {
      "cell_type": "markdown",
      "metadata": {
        "id": "EKtdsEFKP_te"
      },
      "source": [
        "## Row\n",
        "\n",
        "This is a basic row"
      ]
    },
    {
      "cell_type": "code",
      "execution_count": null,
      "metadata": {
        "id": "4NGHpjd5PZld"
      },
      "outputs": [],
      "source": [
        "@me.page(path=\"/row\")\n",
        "def row():\n",
        "    with me.box(style=me.Style(display=\"flex\", flex_direction=\"row\")):\n",
        "        me.text(\"Left\")\n",
        "        me.text(\"Right\")\n",
        "\n",
        "me.colab_show(path=\"/row\", height=100)"
      ]
    },
    {
      "cell_type": "markdown",
      "metadata": {
        "id": "799y-fhGB2h2"
      },
      "source": [
        "## Row with spacing"
      ]
    },
    {
      "cell_type": "code",
      "execution_count": null,
      "metadata": {
        "id": "cJApeWgoB08H"
      },
      "outputs": [],
      "source": [
        "@me.page(path=\"/row-with-spacing\")\n",
        "def row():\n",
        "    # Try using \"space-between\" instead of \"space-around\"\n",
        "    with me.box(style=me.Style(display=\"flex\", flex_direction=\"row\", justify_content=\"space-around\")):\n",
        "        me.text(\"Left\")\n",
        "        me.text(\"Right\")\n",
        "\n",
        "me.colab_show(path=\"/row-with-spacing\", height=100, width=\"50%\")"
      ]
    },
    {
      "cell_type": "markdown",
      "metadata": {
        "id": "amrmzDjUCZsi"
      },
      "source": [
        "## Row with alignment"
      ]
    },
    {
      "cell_type": "code",
      "execution_count": null,
      "metadata": {
        "id": "6ZgQCDt5CcY7"
      },
      "outputs": [],
      "source": [
        "@me.page(path=\"/row-with-alignment\")\n",
        "def row():\n",
        "    # Try commenting out align_items=\"center\" and see what it looks like\n",
        "    with me.box(style=me.Style(display=\"flex\", flex_direction=\"row\", align_items=\"center\")):\n",
        "        me.box(style=me.Style(background=\"red\", height=50, width=\"50%\"))\n",
        "        me.box(style=me.Style(background=\"blue\", height=100, width=\"50%\"))\n",
        "\n",
        "me.colab_show(path=\"/row-with-alignment\", height=100, width=\"50%\")"
      ]
    },
    {
      "cell_type": "markdown",
      "metadata": {
        "id": "F_tnJQYNG-Lk"
      },
      "source": [
        "## Row & Columns"
      ]
    },
    {
      "cell_type": "code",
      "execution_count": null,
      "metadata": {
        "id": "OE4arFYIG9ik"
      },
      "outputs": [],
      "source": [
        "@me.page(path=\"/row-and-columns\")\n",
        "def app():\n",
        "    with me.box(style=me.Style(display=\"flex\", flex_direction=\"row\", gap=16, height=\"100%\")):\n",
        "        column(1)\n",
        "        column(2)\n",
        "        column(3)\n",
        "\n",
        "def column(num: int):\n",
        "    with me.box(style=me.Style(\n",
        "        flex_grow=1,\n",
        "        background=\"#e0e0e0\",\n",
        "        padding=me.Padding.all(16),\n",
        "        display=\"flex\",\n",
        "        flex_direction=\"column\",\n",
        "    )):\n",
        "        me.box(style=me.Style(background=\"red\", height=100))\n",
        "        me.box(style=me.Style(background=\"blue\", flex_grow=1))\n",
        "\n",
        "me.colab_show(path=\"/row-and-columns\", height=300)"
      ]
    },
    {
      "cell_type": "markdown",
      "metadata": {
        "id": "soEezch7DAxT"
      },
      "source": [
        "# Grid"
      ]
    },
    {
      "cell_type": "markdown",
      "metadata": {
        "id": "m9I06DnsDD-E"
      },
      "source": [
        "## Side-by-side"
      ]
    },
    {
      "cell_type": "code",
      "execution_count": null,
      "metadata": {
        "id": "m2fIwI5IDDim"
      },
      "outputs": [],
      "source": [
        "@me.page(path=\"/grid-sxs\")\n",
        "def grid():\n",
        "    # 1fr means 1 fraction, so each side is the same size.\n",
        "    # Try changing one of the 1fr to 2fr and see what it looks like\n",
        "    with me.box(style=me.Style(display=\"grid\", grid_template_columns=\"1fr 1fr\")):\n",
        "        me.text(\"A bunch of text\")\n",
        "        me.text(\"Some more text\")\n",
        "\n",
        "me.colab_show(path=\"/grid-sxs\", height=100, width=\"50%\")"
      ]
    },
    {
      "cell_type": "markdown",
      "metadata": {
        "id": "A1whheFYDXEX"
      },
      "source": [
        "## Header - Body - Footer layout"
      ]
    },
    {
      "cell_type": "code",
      "execution_count": null,
      "metadata": {
        "id": "ZP7l_mMQDWoK"
      },
      "outputs": [],
      "source": [
        "import mesop as me\n",
        "\n",
        "@me.page(path=\"/grid-header-body-footer\")\n",
        "def app():\n",
        "    with me.box(style=me.Style(\n",
        "        display=\"grid\",\n",
        "        grid_template_rows=\"auto 1fr auto\",\n",
        "        height=\"100%\"\n",
        "    )):\n",
        "        # Header\n",
        "        with me.box(style=me.Style(\n",
        "            background=\"#f0f0f0\",\n",
        "            padding=me.Padding.all(24)\n",
        "        )):\n",
        "            me.text(\"Header\")\n",
        "\n",
        "        # Body\n",
        "        with me.box(style=me.Style(\n",
        "            padding=me.Padding.all(24),\n",
        "            overflow_y=\"auto\"\n",
        "        )):\n",
        "            me.text(\"Body Content\")\n",
        "            # Add more body content here\n",
        "\n",
        "        # Footer\n",
        "        with me.box(style=me.Style(\n",
        "            background=\"#f0f0f0\",\n",
        "            padding=me.Padding.all(24)\n",
        "        )):\n",
        "            me.text(\"Footer\")\n",
        "\n",
        "me.colab_show(path=\"/grid-header-body-footer\", height=400)"
      ]
    },
    {
      "cell_type": "markdown",
      "metadata": {
        "id": "rxyuPKCeEmUo"
      },
      "source": [
        "## Sidebar layout"
      ]
    },
    {
      "cell_type": "code",
      "execution_count": null,
      "metadata": {
        "id": "nXhALOkrEnmp"
      },
      "outputs": [],
      "source": [
        "import mesop as me\n",
        "\n",
        "@me.page(path=\"/sidebar-layout\")\n",
        "def app():\n",
        "    with me.box(style=me.Style(\n",
        "        display=\"grid\",\n",
        "        grid_template_columns=\"250px 1fr\",\n",
        "        height=\"100%\"\n",
        "    )):\n",
        "        # Sidebar\n",
        "        with me.box(style=me.Style(\n",
        "            background=\"#f0f0f0\",\n",
        "            padding=me.Padding.all(24),\n",
        "            overflow_y=\"auto\"\n",
        "        )):\n",
        "            me.text(\"Sidebar\")\n",
        "\n",
        "        # Main content\n",
        "        with me.box(style=me.Style(\n",
        "            padding=me.Padding.all(24),\n",
        "            overflow_y=\"auto\"\n",
        "        )):\n",
        "            me.text(\"Main Content\")\n",
        "\n",
        "me.colab_show(path=\"/sidebar-layout\", height=400)"
      ]
    },
    {
      "cell_type": "markdown",
      "metadata": {
        "id": "hRz2iKGGFBfI"
      },
      "source": [
        "# Responsive UI\n",
        "\n",
        "This is similar to the Grid Sidebar layout above, except on smaller screens, we will hide the sidebar. Try resizing the browser window and see how the UI changes."
      ]
    },
    {
      "cell_type": "code",
      "execution_count": null,
      "metadata": {
        "id": "GLdBlUtNFFiw"
      },
      "outputs": [],
      "source": [
        "import mesop as me\n",
        "\n",
        "@me.page(path=\"/responsive-ui\")\n",
        "def app():\n",
        "    is_desktop = me.viewport_size().width > 640\n",
        "    with me.box(style=me.Style(\n",
        "        display=\"grid\",\n",
        "        grid_template_columns=\"250px 1fr\" if is_desktop else \"1fr\",\n",
        "        height=\"100%\"\n",
        "    )):\n",
        "        if is_desktop:\n",
        "          # Sidebar\n",
        "          with me.box(style=me.Style(\n",
        "              background=\"#f0f0f0\",\n",
        "              padding=me.Padding.all(24),\n",
        "              overflow_y=\"auto\"\n",
        "          )):\n",
        "              me.text(\"Sidebar\")\n",
        "\n",
        "        # Main content\n",
        "        with me.box(style=me.Style(\n",
        "            padding=me.Padding.all(24),\n",
        "            overflow_y=\"auto\"\n",
        "        )):\n",
        "            me.text(\"Main Content\")\n",
        "\n",
        "me.colab_show(path=\"/responsive-ui\", height=400)"
      ]
    }
  ],
  "metadata": {
    "colab": {
      "authorship_tag": "ABX9TyOsU4T51ozrD5ZHXMc8bXrr",
      "include_colab_link": true,
      "private_outputs": true,
      "provenance": [],
      "toc_visible": true
    },
    "kernelspec": {
      "display_name": "Python 3",
      "name": "python3"
    },
    "language_info": {
      "name": "python"
    }
  },
  "nbformat": 4,
  "nbformat_minor": 0
}
